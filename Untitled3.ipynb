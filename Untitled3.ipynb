{
 "cells": [
  {
   "cell_type": "code",
   "execution_count": 3,
   "metadata": {},
   "outputs": [
    {
     "ename": "ModuleNotFoundError",
     "evalue": "No module named 'twython'",
     "output_type": "error",
     "traceback": [
      "\u001b[0;31m---------------------------------------------------------------------------\u001b[0m",
      "\u001b[0;31mModuleNotFoundError\u001b[0m                       Traceback (most recent call last)",
      "\u001b[0;32m<ipython-input-3-09ee01d30519>\u001b[0m in \u001b[0;36m<module>\u001b[0;34m\u001b[0m\n\u001b[1;32m      2\u001b[0m \u001b[0;32mfrom\u001b[0m \u001b[0mpandas\u001b[0m \u001b[0;32mimport\u001b[0m \u001b[0mDataFrame\u001b[0m\u001b[0;34m\u001b[0m\u001b[0;34m\u001b[0m\u001b[0m\n\u001b[1;32m      3\u001b[0m \u001b[0;32mimport\u001b[0m \u001b[0mpandas_datareader\u001b[0m\u001b[0;34m\u001b[0m\u001b[0;34m\u001b[0m\u001b[0m\n\u001b[0;32m----> 4\u001b[0;31m \u001b[0;32mimport\u001b[0m \u001b[0mtwython\u001b[0m\u001b[0;34m\u001b[0m\u001b[0;34m\u001b[0m\u001b[0m\n\u001b[0m\u001b[1;32m      5\u001b[0m \u001b[0;32mfrom\u001b[0m \u001b[0mtwython\u001b[0m \u001b[0;32mimport\u001b[0m \u001b[0mTwython\u001b[0m\u001b[0;34m\u001b[0m\u001b[0;34m\u001b[0m\u001b[0m\n\u001b[1;32m      6\u001b[0m \u001b[0;34m\u001b[0m\u001b[0m\n",
      "\u001b[0;31mModuleNotFoundError\u001b[0m: No module named 'twython'"
     ]
    }
   ],
   "source": [
    "import pandas as pd\n",
    "from pandas import DataFrame\n",
    "import pandas_datareader\n",
    "import twython\n",
    "from twython import Twython\n",
    "\n",
    "APP_KEY = ''\n",
    "APP_SECRET = ''\n",
    "ACCESS_TOKEN = ''\n",
    "\n",
    "d = {'id':'', 'created_at':'', 'from_user':'', 'followers_count':'', 'friends_count':'', 'statuses_count':'', 'verified':'', 'location':'', 'text':'', 'retweet_count':'', 'favorite_count':'', 'hashtag_count':'', 'url_count':'', 'mentions_count':'', 'links':''}\n",
    "\n",
    "def getFeatures(filename):\n",
    "\tcsvfile = pd.read_csv(filename) #Reading .csv files containing tweets.\n",
    "\ttweet_ids = csvfile['id_str']\t#Copying the 'id_str' attribute values to a item.\n",
    "\tlength = len(tweet_ids)\t\t\t#Getting the length of 'tweet_ids'.\n",
    "\t\n",
    "\tdf = DataFrame(d, index=[0])\t#Creating a DataFrame\n",
    "\n",
    "\ttwitter = Twython(APP_KEY, APP_SECRET, oauth_version=2)\n",
    "\tACCESS_TOKEN = twitter.obtain_access_token()\n",
    "\ttwitter = Twython(APP_KEY, access_token=ACCESS_TOKEN)\n",
    "\t#Generating Access Token\n",
    "\n",
    "\tfor i in range(0, length):\n",
    "\t\tstatus = twitter.show_status(id=tweet_ids[i])\n",
    "\t\td['id'] = status['id_str'].encode('utf-8')\n",
    "\t\td['created_at'] = status['created_at'].encode('utf-8')\n",
    "\t\td['from_user'] = status['user']['screen_name'].encode('utf-8')\n",
    "\t\td['followers_count'] = status['user']['followers_count']\n",
    "\t\td['friends_count'] = status['user']['friends_count']\n",
    "\t\td['statuses_count'] = status['user']['statuses_count']\n",
    "\t\td['verified'] = status['user']['verified']\n",
    "\t\td['location'] = 0 if (len(status['user']['location'].encode('utf-8'))==0) else 1\n",
    "\t\td['text'] = status['text'].encode('utf-8')\n",
    "\t\td['retweet_count'] = status['retweet_count']\n",
    "\t\td['favorite_count'] = status['favorite_count']\n",
    "\t\td['hashtag_count'] = len(status['entities']['hashtags'])\n",
    "\t\td['url_count'] = len(status['entities']['urls'])\n",
    "\t\td['mentions_count'] = len(status['entities']['user_mentions'])\n",
    "\t\tif(len(status['entities']['urls'])>0):\n",
    "    \t\t\tfor x in range(0, len(status['entities']['urls'])):\n",
    "       \t\t\t\td['links'] += status['entities']['urls'][x]['expanded_url'].encode('utf-8') + \"  \"\n",
    "\t\tdf = df.append(d, ignore_index=True)\n",
    "\t\tdf.to_csv('NSamples.csv') #Saving file to disk\n",
    "\t\td['links'] = ''\n",
    "\tprint (\"\\nAll Done!\")\n"
   ]
  },
  {
   "cell_type": "code",
   "execution_count": null,
   "metadata": {},
   "outputs": [],
   "source": []
  },
  {
   "cell_type": "code",
   "execution_count": null,
   "metadata": {},
   "outputs": [],
   "source": []
  }
 ],
 "metadata": {
  "kernelspec": {
   "display_name": "Python 3",
   "language": "python",
   "name": "python3"
  },
  "language_info": {
   "codemirror_mode": {
    "name": "ipython",
    "version": 3
   },
   "file_extension": ".py",
   "mimetype": "text/x-python",
   "name": "python",
   "nbconvert_exporter": "python",
   "pygments_lexer": "ipython3",
   "version": "3.7.3"
  }
 },
 "nbformat": 4,
 "nbformat_minor": 2
}
